{
 "cells": [
  {
   "cell_type": "code",
   "execution_count": 1,
   "metadata": {},
   "outputs": [],
   "source": [
    "import json\n",
    "import os\n",
    "import pandas as pd\n",
    "import time\n",
    "\n",
    "from typing import Tuple\n",
    "\n",
    "import s3fs\n",
    "import tweepy"
   ]
  },
  {
   "cell_type": "markdown",
   "metadata": {},
   "source": [
    "## Tweepy"
   ]
  },
  {
   "cell_type": "code",
   "execution_count": 2,
   "metadata": {},
   "outputs": [],
   "source": [
    "with open('/Users/evanmcneal/Desktop/Projects/athena/data_igsn/keys/twitter_keys.txt') as json_file:\n",
    "    keys = json.load(json_file)"
   ]
  },
  {
   "cell_type": "code",
   "execution_count": 3,
   "metadata": {},
   "outputs": [],
   "source": [
    "API_KEY = keys[\"API_KEY\"]\n",
    "API_SECRET_KEY = keys[\"API_SECRET_KEY\"]\n",
    "\n",
    "ACCESS_TOKEN = keys[\"ACCESS_TOKEN\"]\n",
    "ACCESS_TOKEN_SECRET = keys[\"ACCESS_TOKEN_SECRET\"]"
   ]
  },
  {
   "cell_type": "code",
   "execution_count": 4,
   "metadata": {},
   "outputs": [],
   "source": [
    "# Authenticate to Twitter\n",
    "auth = tweepy.OAuthHandler(API_KEY, API_SECRET_KEY)\n",
    "\n",
    "auth.set_access_token(ACCESS_TOKEN, ACCESS_TOKEN_SECRET)"
   ]
  },
  {
   "cell_type": "code",
   "execution_count": 5,
   "metadata": {},
   "outputs": [
    {
     "name": "stdout",
     "output_type": "stream",
     "text": [
      "Authentication OK\n"
     ]
    }
   ],
   "source": [
    "api = tweepy.API(\n",
    "    auth,\n",
    "    wait_on_rate_limit=True,\n",
    "    wait_on_rate_limit_notify=True\n",
    "    #parser=tweepy.parsers.JSONParser()\n",
    ")\n",
    "\n",
    "try:\n",
    "    api.verify_credentials()\n",
    "    print(\"Authentication OK\")\n",
    "except:\n",
    "    print(\"Error during authentication\")"
   ]
  },
  {
   "cell_type": "code",
   "execution_count": 6,
   "metadata": {},
   "outputs": [],
   "source": [
    "def create_tweet_df(most_recent_id=False, max_id=False) -> Tuple[pd.DataFrame, int]:\n",
    "    \n",
    "    tweet_tuples = []\n",
    "\n",
    "    for tweet in tweepy.Cursor(\n",
    "        api.search,\n",
    "        q=\"*\",\n",
    "        lang=\"en\",\n",
    "        result_type=\"popular\",\n",
    "        since_id=most_recent_id,\n",
    "        max_id=max_id,\n",
    "        tweet_mode=\"extended\",\n",
    "        count = 100\n",
    "    ).items():\n",
    "\n",
    "        tweet_info = (\n",
    "            tweet.full_text, \n",
    "            tweet.favorite_count, \n",
    "            tweet.retweet_count, \n",
    "            tweet.user.followers_count, \n",
    "            tweet.created_at,\n",
    "            tweet.id\n",
    "        )\n",
    "\n",
    "        tweet_tuples.append(tweet_info)\n",
    "\n",
    "    tweet_df = pd.DataFrame(\n",
    "        tweet_tuples, \n",
    "        columns =[\n",
    "            'Tweet', \n",
    "            'Num_Favorites', \n",
    "            'Num_Retweets', \n",
    "            'Num_Followers',\n",
    "            'Created_At',\n",
    "            'id'\n",
    "        ])\n",
    "    \n",
    "    tweet_df.sort_values('Created_At', inplace = True)\n",
    "    \n",
    "    return tweet_df"
   ]
  },
  {
   "cell_type": "code",
   "execution_count": 7,
   "metadata": {},
   "outputs": [],
   "source": [
    "#all_tweets_df = create_tweet_df()\n",
    "all_tweets_df = pd.read_csv(\n",
    "    '/Users/evanmcneal/Desktop/Projects/athena/data_igsn/data/tweet_df.csv'\n",
    ").sort_values('Created_At')\n",
    "\n",
    "most_recent_id = all_tweets_df['id'].iloc[-1]\n",
    "max_id = all_tweets_df['id'].iloc[0]"
   ]
  },
  {
   "cell_type": "code",
   "execution_count": 8,
   "metadata": {},
   "outputs": [
    {
     "data": {
      "text/plain": [
       "584"
      ]
     },
     "execution_count": 8,
     "metadata": {},
     "output_type": "execute_result"
    }
   ],
   "source": [
    "all_tweets_df.shape[0]"
   ]
  },
  {
   "cell_type": "code",
   "execution_count": 9,
   "metadata": {},
   "outputs": [
    {
     "name": "stderr",
     "output_type": "stream",
     "text": [
      "Rate limit reached. Sleeping for: 109\n"
     ]
    },
    {
     "ename": "NameError",
     "evalue": "name 'df' is not defined",
     "output_type": "error",
     "traceback": [
      "\u001b[0;31m---------------------------------------------------------------------------\u001b[0m",
      "\u001b[0;31mNameError\u001b[0m                                 Traceback (most recent call last)",
      "\u001b[0;32m<ipython-input-9-0b66dcd81ee1>\u001b[0m in \u001b[0;36m<module>\u001b[0;34m\u001b[0m\n\u001b[1;32m     16\u001b[0m \u001b[0;34m\u001b[0m\u001b[0m\n\u001b[1;32m     17\u001b[0m         \u001b[0;32mif\u001b[0m \u001b[0mall_tweets_df\u001b[0m\u001b[0;34m.\u001b[0m\u001b[0mshape\u001b[0m\u001b[0;34m[\u001b[0m\u001b[0;36m0\u001b[0m\u001b[0;34m]\u001b[0m \u001b[0;34m>\u001b[0m \u001b[0malert_interval\u001b[0m\u001b[0;34m:\u001b[0m\u001b[0;34m\u001b[0m\u001b[0;34m\u001b[0m\u001b[0m\n\u001b[0;32m---> 18\u001b[0;31m             \u001b[0malert_interval\u001b[0m \u001b[0;34m+=\u001b[0m \u001b[0mdf\u001b[0m\u001b[0;34m.\u001b[0m\u001b[0mshape\u001b[0m\u001b[0;34m[\u001b[0m\u001b[0;36m0\u001b[0m\u001b[0;34m]\u001b[0m \u001b[0;31m# Stupid way to do this, but ¯\\_(ツ)_/¯\u001b[0m\u001b[0;34m\u001b[0m\u001b[0;34m\u001b[0m\u001b[0m\n\u001b[0m\u001b[1;32m     19\u001b[0m             \u001b[0mprint\u001b[0m\u001b[0;34m(\u001b[0m\u001b[0;34m\"Current number of tweets: \"\u001b[0m\u001b[0;34m,\u001b[0m \u001b[0mall_tweets_df\u001b[0m\u001b[0;34m.\u001b[0m\u001b[0mshape\u001b[0m\u001b[0;34m[\u001b[0m\u001b[0;36m0\u001b[0m\u001b[0;34m]\u001b[0m\u001b[0;34m)\u001b[0m\u001b[0;34m\u001b[0m\u001b[0;34m\u001b[0m\u001b[0m\n",
      "\u001b[0;31mNameError\u001b[0m: name 'df' is not defined"
     ]
    }
   ],
   "source": [
    "max_tweets = 10000\n",
    "\n",
    "alert_interval = 1000\n",
    "\n",
    "while all_tweets_df.shape[0] < max_tweets:\n",
    "    \n",
    "    new_tweets_df = create_tweet_df(most_recent_id=most_recent_id)\n",
    "\n",
    "    if new_tweets_df.shape[0] == 0:\n",
    "        print(\"No new tweets; sleeping for 15 minutes. Current count: \", all_tweets_df.shape[0])\n",
    "        time.sleep(15*60)\n",
    "    else:\n",
    "        most_recent_id = new_tweets_df['id'].iloc[-1]\n",
    "        \n",
    "        all_tweets_df = all_tweets_df.append(new_tweets_df, ignore_index=True)\n",
    "        \n",
    "        total_num_tweets = all_tweets_df.shape[0]\n",
    "        if total_num_tweets > alert_interval:\n",
    "            alert_interval += total_num_tweets # Stupid way to do this, but ¯\\_(ツ)_/¯\n",
    "            print(\"Current number of tweets: \", total_num_tweets)"
   ]
  },
  {
   "cell_type": "code",
   "execution_count": null,
   "metadata": {},
   "outputs": [],
   "source": [
    "print(\"Length before duplicate drop: \", all_tweets_df.shape[0])"
   ]
  },
  {
   "cell_type": "code",
   "execution_count": null,
   "metadata": {},
   "outputs": [],
   "source": [
    "all_tweets_df.drop_duplicates(inplace = True)"
   ]
  },
  {
   "cell_type": "code",
   "execution_count": null,
   "metadata": {},
   "outputs": [],
   "source": [
    "# Should be the same?...\n",
    "print(\"Length after duplicate drop: \", all_tweets_df.shape[0])"
   ]
  },
  {
   "cell_type": "markdown",
   "metadata": {},
   "source": [
    "## AWS\n",
    "`s3fs` plays ball with `pandas` behind the scenes, so provided you have generated your IAM User access keys, installed the `AWS CLI`, and run `aws configure`, you can just write to an existing S3 bucket like you would locally."
   ]
  },
  {
   "cell_type": "code",
   "execution_count": null,
   "metadata": {},
   "outputs": [],
   "source": [
    "#tweet_df.to_csv(\"s3://twitterathena/tweet_df.csv\", index=False)\n",
    "all_tweets_df.to_csv(\"./tweet_df.csv\", index=False)"
   ]
  },
  {
   "cell_type": "code",
   "execution_count": null,
   "metadata": {},
   "outputs": [],
   "source": [
    "#test = pd.read_csv(\"s3://twitterathena/tweet_df.csv\")"
   ]
  },
  {
   "cell_type": "code",
   "execution_count": null,
   "metadata": {},
   "outputs": [],
   "source": [
    "#test"
   ]
  }
 ],
 "metadata": {
  "kernelspec": {
   "display_name": "Python 3",
   "language": "python",
   "name": "python3"
  },
  "language_info": {
   "codemirror_mode": {
    "name": "ipython",
    "version": 3
   },
   "file_extension": ".py",
   "mimetype": "text/x-python",
   "name": "python",
   "nbconvert_exporter": "python",
   "pygments_lexer": "ipython3",
   "version": "3.7.4"
  }
 },
 "nbformat": 4,
 "nbformat_minor": 4
}
